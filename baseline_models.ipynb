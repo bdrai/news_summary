{
 "cells": [
  {
   "cell_type": "code",
   "execution_count": 1,
   "metadata": {},
   "outputs": [
    {
     "name": "stdout",
     "output_type": "stream",
     "text": [
      "Collecting Evaluate\n",
      "  Downloading evaluate-0.4.0-py3-none-any.whl (81 kB)\n",
      "\u001b[2K     \u001b[90m━━━━━━━━━━━━━━━━━━━━━━━━━━━━━━━━━━━━━━━\u001b[0m \u001b[32m81.4/81.4 kB\u001b[0m \u001b[31m628.1 kB/s\u001b[0m eta \u001b[36m0:00:00\u001b[0ma \u001b[36m0:00:01\u001b[0m\n",
      "\u001b[?25hRequirement already satisfied: datasets>=2.0.0 in /home/emuna/anaconda3/lib/python3.9/site-packages (from Evaluate) (2.10.1)\n",
      "Requirement already satisfied: tqdm>=4.62.1 in /home/emuna/anaconda3/lib/python3.9/site-packages (from Evaluate) (4.64.1)\n",
      "Requirement already satisfied: pandas in /home/emuna/anaconda3/lib/python3.9/site-packages (from Evaluate) (1.4.4)\n",
      "Requirement already satisfied: xxhash in /home/emuna/anaconda3/lib/python3.9/site-packages (from Evaluate) (3.2.0)\n",
      "Requirement already satisfied: packaging in /home/emuna/anaconda3/lib/python3.9/site-packages (from Evaluate) (21.3)\n",
      "Requirement already satisfied: fsspec[http]>=2021.05.0 in /home/emuna/anaconda3/lib/python3.9/site-packages (from Evaluate) (2022.7.1)\n",
      "Requirement already satisfied: responses<0.19 in /home/emuna/anaconda3/lib/python3.9/site-packages (from Evaluate) (0.18.0)\n",
      "Requirement already satisfied: dill in /home/emuna/anaconda3/lib/python3.9/site-packages (from Evaluate) (0.3.6)\n",
      "Requirement already satisfied: requests>=2.19.0 in /home/emuna/anaconda3/lib/python3.9/site-packages (from Evaluate) (2.28.1)\n",
      "Requirement already satisfied: huggingface-hub>=0.7.0 in /home/emuna/anaconda3/lib/python3.9/site-packages (from Evaluate) (0.13.2)\n",
      "Requirement already satisfied: numpy>=1.17 in /home/emuna/anaconda3/lib/python3.9/site-packages (from Evaluate) (1.21.5)\n",
      "Requirement already satisfied: multiprocess in /home/emuna/anaconda3/lib/python3.9/site-packages (from Evaluate) (0.70.14)\n",
      "Requirement already satisfied: aiohttp in /home/emuna/anaconda3/lib/python3.9/site-packages (from datasets>=2.0.0->Evaluate) (3.8.4)\n",
      "Requirement already satisfied: pyarrow>=6.0.0 in /home/emuna/anaconda3/lib/python3.9/site-packages (from datasets>=2.0.0->Evaluate) (11.0.0)\n",
      "Requirement already satisfied: pyyaml>=5.1 in /home/emuna/anaconda3/lib/python3.9/site-packages (from datasets>=2.0.0->Evaluate) (6.0)\n",
      "Requirement already satisfied: typing-extensions>=3.7.4.3 in /home/emuna/anaconda3/lib/python3.9/site-packages (from huggingface-hub>=0.7.0->Evaluate) (4.3.0)\n",
      "Requirement already satisfied: filelock in /home/emuna/anaconda3/lib/python3.9/site-packages (from huggingface-hub>=0.7.0->Evaluate) (3.6.0)\n",
      "Requirement already satisfied: pyparsing!=3.0.5,>=2.0.2 in /home/emuna/anaconda3/lib/python3.9/site-packages (from packaging->Evaluate) (3.0.9)\n",
      "Requirement already satisfied: charset-normalizer<3,>=2 in /home/emuna/anaconda3/lib/python3.9/site-packages (from requests>=2.19.0->Evaluate) (2.0.4)\n",
      "Requirement already satisfied: idna<4,>=2.5 in /home/emuna/anaconda3/lib/python3.9/site-packages (from requests>=2.19.0->Evaluate) (3.3)\n",
      "Requirement already satisfied: certifi>=2017.4.17 in /home/emuna/anaconda3/lib/python3.9/site-packages (from requests>=2.19.0->Evaluate) (2022.9.14)\n",
      "Requirement already satisfied: urllib3<1.27,>=1.21.1 in /home/emuna/anaconda3/lib/python3.9/site-packages (from requests>=2.19.0->Evaluate) (1.26.11)\n",
      "Requirement already satisfied: python-dateutil>=2.8.1 in /home/emuna/anaconda3/lib/python3.9/site-packages (from pandas->Evaluate) (2.8.2)\n",
      "Requirement already satisfied: pytz>=2020.1 in /home/emuna/anaconda3/lib/python3.9/site-packages (from pandas->Evaluate) (2022.1)\n",
      "Requirement already satisfied: six>=1.5 in /home/emuna/anaconda3/lib/python3.9/site-packages (from python-dateutil>=2.8.1->pandas->Evaluate) (1.16.0)\n",
      "Requirement already satisfied: async-timeout<5.0,>=4.0.0a3 in /home/emuna/anaconda3/lib/python3.9/site-packages (from aiohttp->datasets>=2.0.0->Evaluate) (4.0.2)\n",
      "Requirement already satisfied: aiosignal>=1.1.2 in /home/emuna/anaconda3/lib/python3.9/site-packages (from aiohttp->datasets>=2.0.0->Evaluate) (1.3.1)\n",
      "Requirement already satisfied: frozenlist>=1.1.1 in /home/emuna/anaconda3/lib/python3.9/site-packages (from aiohttp->datasets>=2.0.0->Evaluate) (1.3.3)\n",
      "Requirement already satisfied: multidict<7.0,>=4.5 in /home/emuna/anaconda3/lib/python3.9/site-packages (from aiohttp->datasets>=2.0.0->Evaluate) (6.0.4)\n",
      "Requirement already satisfied: attrs>=17.3.0 in /home/emuna/anaconda3/lib/python3.9/site-packages (from aiohttp->datasets>=2.0.0->Evaluate) (21.4.0)\n",
      "Requirement already satisfied: yarl<2.0,>=1.0 in /home/emuna/anaconda3/lib/python3.9/site-packages (from aiohttp->datasets>=2.0.0->Evaluate) (1.8.2)\n",
      "Installing collected packages: Evaluate\n",
      "Successfully installed Evaluate-0.4.0\n"
     ]
    }
   ],
   "source": [
    "! pip install Evaluate"
   ]
  },
  {
   "cell_type": "code",
   "execution_count": 2,
   "metadata": {},
   "outputs": [
    {
     "name": "stderr",
     "output_type": "stream",
     "text": [
      "None of PyTorch, TensorFlow >= 2.0, or Flax have been found. Models won't be available and only tokenizers, configuration and file/data utilities can be used.\n"
     ]
    }
   ],
   "source": [
    "import numpy as np\n",
    "import pandas as pd\n",
    "import matplotlib.pyplot as plt\n",
    "import seaborn as sns\n",
    "from nltk.corpus import stopwords\n",
    "from nltk.stem import PorterStemmer\n",
    "from nltk.tokenize import word_tokenize, sent_tokenize\n",
    "from sklearn.metrics.pairwise import cosine_similarity\n",
    "from sklearn.feature_extraction.text import TfidfVectorizer\n",
    "import evaluate"
   ]
  },
  {
   "attachments": {},
   "cell_type": "markdown",
   "metadata": {},
   "source": [
    "## EDA of cnn_dailymail"
   ]
  },
  {
   "cell_type": "code",
   "execution_count": 3,
   "metadata": {},
   "outputs": [
    {
     "data": {
      "text/html": [
       "<div>\n",
       "<style scoped>\n",
       "    .dataframe tbody tr th:only-of-type {\n",
       "        vertical-align: middle;\n",
       "    }\n",
       "\n",
       "    .dataframe tbody tr th {\n",
       "        vertical-align: top;\n",
       "    }\n",
       "\n",
       "    .dataframe thead th {\n",
       "        text-align: right;\n",
       "    }\n",
       "</style>\n",
       "<table border=\"1\" class=\"dataframe\">\n",
       "  <thead>\n",
       "    <tr style=\"text-align: right;\">\n",
       "      <th></th>\n",
       "      <th>id</th>\n",
       "      <th>article</th>\n",
       "      <th>highlights</th>\n",
       "    </tr>\n",
       "  </thead>\n",
       "  <tbody>\n",
       "    <tr>\n",
       "      <th>192537</th>\n",
       "      <td>853daf3d4faa1a5ae327afffad5165bac5802a65</td>\n",
       "      <td>By . Sam Webb . Lee Crabtree, 27, posed as a t...</td>\n",
       "      <td>The woman set a honey trap for 27 year old dis...</td>\n",
       "    </tr>\n",
       "    <tr>\n",
       "      <th>75591</th>\n",
       "      <td>d65e076d538e47eae7d855cb24df499b9d78a912</td>\n",
       "      <td>Stuart Kerner, pictured, is accused of having ...</td>\n",
       "      <td>Stuart Kerner accused of having sexual relatio...</td>\n",
       "    </tr>\n",
       "    <tr>\n",
       "      <th>34488</th>\n",
       "      <td>62066d76f4ef9e06a1129551c41371bb5d2f7465</td>\n",
       "      <td>The pro-Russian government of Ukraine's southe...</td>\n",
       "      <td>U.S. House approves resolution condemning Russ...</td>\n",
       "    </tr>\n",
       "    <tr>\n",
       "      <th>199928</th>\n",
       "      <td>8ed359b82c0bfa4c70138ead77be1229f3fefcc2</td>\n",
       "      <td>Since exploding on to our screens on The Only ...</td>\n",
       "      <td>Ferne, 24, is launching Fashionable Foodie blo...</td>\n",
       "    </tr>\n",
       "    <tr>\n",
       "      <th>36732</th>\n",
       "      <td>681552c63f52625617482c1e30763d28754fa443</td>\n",
       "      <td>Victoria's Secret has released behind-the-scen...</td>\n",
       "      <td>The 2014 Victoria's Secret Fashion Show will t...</td>\n",
       "    </tr>\n",
       "  </tbody>\n",
       "</table>\n",
       "</div>"
      ],
      "text/plain": [
       "                                              id  \\\n",
       "192537  853daf3d4faa1a5ae327afffad5165bac5802a65   \n",
       "75591   d65e076d538e47eae7d855cb24df499b9d78a912   \n",
       "34488   62066d76f4ef9e06a1129551c41371bb5d2f7465   \n",
       "199928  8ed359b82c0bfa4c70138ead77be1229f3fefcc2   \n",
       "36732   681552c63f52625617482c1e30763d28754fa443   \n",
       "\n",
       "                                                  article  \\\n",
       "192537  By . Sam Webb . Lee Crabtree, 27, posed as a t...   \n",
       "75591   Stuart Kerner, pictured, is accused of having ...   \n",
       "34488   The pro-Russian government of Ukraine's southe...   \n",
       "199928  Since exploding on to our screens on The Only ...   \n",
       "36732   Victoria's Secret has released behind-the-scen...   \n",
       "\n",
       "                                               highlights  \n",
       "192537  The woman set a honey trap for 27 year old dis...  \n",
       "75591   Stuart Kerner accused of having sexual relatio...  \n",
       "34488   U.S. House approves resolution condemning Russ...  \n",
       "199928  Ferne, 24, is launching Fashionable Foodie blo...  \n",
       "36732   The 2014 Victoria's Secret Fashion Show will t...  "
      ]
     },
     "execution_count": 3,
     "metadata": {},
     "output_type": "execute_result"
    }
   ],
   "source": [
    "df_train = pd.read_csv('train.csv')\n",
    "df_val = pd.read_csv('validation.csv')\n",
    "df_train.sample(5)"
   ]
  },
  {
   "cell_type": "code",
   "execution_count": 3,
   "metadata": {},
   "outputs": [
    {
     "data": {
      "text/plain": [
       "(287113, 3)"
      ]
     },
     "execution_count": 3,
     "metadata": {},
     "output_type": "execute_result"
    }
   ],
   "source": [
    "df_train.shape"
   ]
  },
  {
   "attachments": {},
   "cell_type": "markdown",
   "metadata": {},
   "source": [
    "Let's make sure that 'id' is uniqe for each row, and then drop it"
   ]
  },
  {
   "cell_type": "code",
   "execution_count": 4,
   "metadata": {},
   "outputs": [],
   "source": [
    "assert len(df_train.id.unique()) == df_train.shape[0]\n",
    "# df_train.drop(columns='id', inplace=True)\n",
    "# df_val.drop(columns='id', inplace=True)"
   ]
  },
  {
   "attachments": {},
   "cell_type": "markdown",
   "metadata": {},
   "source": [
    "One full sample from the dataset:"
   ]
  },
  {
   "cell_type": "code",
   "execution_count": 5,
   "metadata": {},
   "outputs": [
    {
     "data": {
      "text/plain": [
       "\"By . Associated Press . PUBLISHED: . 14:11 EST, 25 October 2013 . | . UPDATED: . 15:36 EST, 25 October 2013 . The bishop of the Fargo Catholic Diocese in North Dakota has exposed potentially hundreds of church members in Fargo, Grand Forks and Jamestown to the hepatitis A virus in late September and early October. The state Health Department has issued an advisory of exposure for anyone who attended five churches and took communion. Bishop John Folda (pictured) of the Fargo Catholic Diocese in North Dakota has exposed potentially hundreds of church members in Fargo, Grand Forks and Jamestown to the hepatitis A . State Immunization Program Manager Molly Howell says the risk is low, but officials feel it's important to alert people to the possible exposure. The diocese announced on Monday that Bishop John Folda is taking time off after being diagnosed with hepatitis A. The diocese says he contracted the infection through contaminated food while attending a conference for newly ordained bishops in Italy last month. Symptoms of hepatitis A include fever, tiredness, loss of appetite, nausea and abdominal discomfort. Fargo Catholic Diocese in North Dakota (pictured) is where the bishop is located .\""
      ]
     },
     "execution_count": 5,
     "metadata": {},
     "output_type": "execute_result"
    }
   ],
   "source": [
    "df_train.iloc[0, 1]"
   ]
  },
  {
   "cell_type": "code",
   "execution_count": 6,
   "metadata": {},
   "outputs": [
    {
     "data": {
      "text/plain": [
       "'Bishop John Folda, of North Dakota, is taking time off after being diagnosed .\\nHe contracted the infection through contaminated food in Italy .\\nChurch members in Fargo, Grand Forks and Jamestown could have been exposed .'"
      ]
     },
     "execution_count": 6,
     "metadata": {},
     "output_type": "execute_result"
    }
   ],
   "source": [
    "df_train.iloc[0, 2]"
   ]
  },
  {
   "attachments": {},
   "cell_type": "markdown",
   "metadata": {},
   "source": [
    "It is safe to say that for our porpose of summary the metadata of Auter and time of publition is not relevant.\n",
    "TODO: clean metadata"
   ]
  },
  {
   "cell_type": "code",
   "execution_count": 7,
   "metadata": {},
   "outputs": [
    {
     "name": "stdout",
     "output_type": "stream",
     "text": [
      "By . Associated Press . PUBLISHED: . 14:11 EST, 25 October 2013 . | . UPDATED: . 15:36 EST, 25 October 2013 . The bishop of the Fargo Catholic Diocese in North Dakota has exposed potentially hundreds of church members in Fargo, Grand Forks and Jamestown to the hepatitis A virus in late September and early October. The state Health Department has issued an advisory of exposure for anyone who attended five churches and took communion. Bishop John Folda (pictured) of the Fargo Catholic Diocese in North Dakota has exposed potentially hundreds of church members in Fargo, Grand Forks and Jamestown to the hepatitis A . State Immunization Program Manager Molly Howell says the risk is low, but officials feel it's important to alert people to the possible exposure. The diocese announced on Monday that Bishop John Folda is taking time off after being diagnosed with hepatitis A. The diocese says he contracted the infection through contaminated food while attending a conference for newly ordained bishops in Italy last month. Symptoms of hepatitis A include fever, tiredness, loss of appetite, nausea and abdominal discomfort. Fargo Catholic Diocese in North Dakota (pictured) is where the bishop is located . \n",
      "\n",
      "\n",
      "(CNN) -- Ralph Mata was an internal affairs lieutenant for the Miami-Dade Police Department, working in the division that investigates allegations of wrongdoing by cops. Outside the office, authorities allege that the 45-year-old longtime officer worked with a drug trafficking organization to help plan a murder plot and get guns. A criminal complaint unsealed in U.S. District Court in New Jersey Tuesday accuses Mata, also known as \"The Milk Man,\" of using his role as a police officer to help the drug trafficking organization in exchange for money and gifts, including a Rolex watch. In one instance, the complaint alleges, Mata arranged to pay two assassins to kill rival drug dealers. The killers would pose as cops, pulling over their targets before shooting them, according to the complaint. \"Ultimately, the (organization) decided not to move forward with the murder plot, but Mata still received a payment for setting up the meetings,\" federal prosecutors said in a statement. The complaint also alleges that Mata used his police badge to purchase weapons for drug traffickers. Mata, according to the complaint, then used contacts at the airport to transport the weapons in his carry-on luggage on trips from Miami to the Dominican Republic. Court documents released by investigators do not specify the name of the drug trafficking organization with which Mata allegedly conspired but says the organization has been importing narcotics from places such as Ecuador and the Dominican Republic by hiding them \"inside shipping containers containing pallets of produce, including bananas.\" The organization \"has been distributing narcotics in New Jersey and elsewhere,\" the complaint says. Authorities arrested Mata on Tuesday in Miami Gardens, Florida. It was not immediately clear whether Mata has an attorney, and police officials could not be immediately reached for comment. Mata has worked for the Miami-Dade Police Department since 1992, including directing investigations in Miami Gardens and working as a lieutenant in the K-9 unit at Miami International Airport, according to the complaint. Since March 2010, he had been working in the internal affairs division. Mata faces charges of aiding and abetting a conspiracy to distribute cocaine, conspiring to distribute cocaine and engaging in monetary transactions in property derived from specified unlawful activity. He is scheduled to appear in federal court in Florida on Wednesday. If convicted, Mata could face life in prison. CNN's Suzanne Presto contributed to this report. \n",
      "\n",
      "\n",
      "A drunk driver who killed a young woman in a head-on crash while checking his mobile phone has been jailed for six years. Craig Eccleston-Todd, 27, was driving home from a night at a pub when he received a text message. As he was reading or replying to it, he veered across the road while driving round a bend and smashed into Rachel Titley’s car coming the other way. Craig Eccleston-Todd, 27 (left) was using his mobile phone when he crashed head-on into the car being driven by Rachel Titley, 28 (right). She died later from her injuries . The head-on crash took place in October 2013. Mr Eccleston-Todd's car was barely recognisable (pictured) Police said Eccleston-Todd had drunk at least three or four pints of beer before getting behind the wheel. He was found guilty of causing death by dangerous driving at Portsmouth Crown Court yesterday. Miss Titley, a 28-year-old solicitor’s clerk from Cowes, Isle of Wight, had also spent the evening with friends at a pub but had not drunk any alcohol, police said. She was driving responsibly and there was ‘nothing she could have done to avoid the collision’, they added. Lindsay Pennell, prosecuting, said: ‘Craig Eccleston-Todd’s driving resulted in the tragic death of a young woman, Rachel Titley, a death that could have been avoided. ‘Mr Eccleston-Todd took the decision to pick up his mobile phone whilst driving and, either reading or replying to this text message, was so distracted that he failed to negotiate a left-hand bend, crossing the central white line into the path of Miss Titley’s oncoming car. Miss Titley was pulled the wreckage of her Daihatsu Cuore but died later from her injuries in hospital . ‘Miss Titley [had] a bright future ahead of her. She was also returning home having spent an enjoyable evening with friends and was driving responsibly. ‘She had arranged to contact her friends when she got home to confirm that she had arrived safely. Her friends sadly never heard from her after they parted company. ‘Miss Titley’s death in these circumstances reiterates the danger of using a hand-held mobile phone whilst driving.’ Police were unable to take breath or blood tests from Eccleston-Todd immediately, but in tests several hours after the accident he was only marginally under the drink-drive limit. The judge agreed with police that he would have been over the limit at the time his red Citroen hit Miss Titley’s blue Daihatsu Cuore on a road near Yarmouth, Isle of Wight, on October 11, 2013. His phone records showed he was also texting around the time of the crash. PC Mark Furse, from Hampshire constabulary’s serious collision investigation unit, said: 'Our thoughts are with Rachel's family at this time. She had been out with friends at a pub in Shalfleet that evening, but had not had any alcohol. 'Our investigation showed that there was nothing she could have done to avoid the collision and sadly it cost her her life. 'Mr Eccleston-Todd had left work in Yarmouth and met with friends at a pub where he drank at least three to four pints of lager. He hadn't long left the pub to return home when the collision occurred at around 9.30pm. 'We weren't able to take breath or blood tests from him immediately and although blood taken several hours after the collision showed he was marginally under the limit, we maintain he would have been over the limit at the time of the collision and in summing up today, the judge agreed. 'The analysis of his phone records showed that he was texting on his phone around the time of the collision so it's highly likely this would also have contributed to his dangerous driving and loss of control.' Eccleston-Todd was found guilty of causing death by dangerous driving following a trial at Portsmouth Crown Court (pictured) He added: 'Mr Eccleston-Todd will now spend six years behind bars, but Rachel's family have lost her forever. 'I hope this will make people think twice before drinking any alcohol and getting behind the wheel, or using a phone once they're on the road. 'The dangers of drink driving and driving whilst using a mobile phone are obvious. Those who continue to do so risk spending a substantial time in prison. This case highlights just how tragic the consequences of committing these offences can be.' ‘Mr Eccleston-Todd will now spend six years behind bars, but Rachel’s family have lost her for ever. I hope this will make people think twice before drinking any alcohol and getting behind the wheel, or using a phone once they’re on the road. This case highlights just how tragic the consequences of committing these offences can be.’ Eccleston-Todd, of Newport, Isle of Wight, was also disqualified from driving for eight years after which he will have to complete an extended re-test. \n",
      "\n",
      "\n",
      "(CNN) -- With a breezy sweep of his pen President Vladimir Putin wrote a new chapter into Crimea's turbulent history, committing the region to a future returned to Russian domain. Sixty years prior, Ukraine's breakaway peninsula was signed away just as swiftly by Soviet leader Nikita Khrushchev. But dealing with such a blatant land grab on its eastern flank won't be anywhere near as quick and easy for Europe's 28-member union. Because, unlike Crimea's rushed referendum, everyone has a say. After initially slapping visa restrictions and asset freezes on a limited number of little known politicians and military men, Europe is facing urgent calls to widen the scope of its measures to target the Russian business community in particular. The logic of this is that those who run Russia and own it are essentially two sides of the coin. Alexei Navalny, one-time Moscow mayoral contender now under house arrest for opposing the current regime, called for Europe's leaders to ban everyone -- from Vladimir Putin's personal banker to Chelsea Football Club owner Roman Abramovich from keeping their money and loved ones abroad. Asset freezes and visa restrictions are especially palatable options for the EU because they can be rolled out on a discretionary basis, without requiring cumbersome legal procedures and recourse. In fact Russia cancels visas for people it doesn't like all the time. Just look at Hermitage Capital founder Bill Browder who lost both his right of entry and Moscow-based money in 2005 and dare not go back. Russia also banned the adoption of its orphans by Americans in retaliation for the US's implementation of an anti-corruption law named after Sergei Magnitsky, Browder's lawyer who died after a year in a Moscow detention center, apparently beaten to death. Yet in playing the 'money talks' card, Europe must be ready for the consequences of such action. Because money also walks. As such EU leaders must be ready to accept sanctions are a two-way street and will hurt both sides. Targeting Russia's peripatetic business community would be one way of sapping their tenuous support for President Putin. And such a strategy might also turn out to have a silver lining: awarding EU countries a chance to finally deal with some of the more unpleasant sides of their patronage, including money laundering and corruption, which have inflated prize assets like London property and Picasso paintings for years. Where Europe should hold fire though is trade. Two decades of post-Soviet rapprochement and almost $500 billion worth of commerce is a lot to put at stake. It's true that any trade war would hurt Russia far harder than it would the EU - not least because 15% of the former's GDP comes from exports to the bloc. But Europe - with its hefty reliance on Russian gas - would have a hard time keeping its factories going and citizens warm without power from the east. And while Putin flexes his political muscle, open trade channels keep the dialogue going giving all sides a chance to change the subject and talk less tensely. No one can afford to cut off that lifeline, especially now with Europe's economy on the rebound and Russia's one on the wane. \n",
      "\n",
      "\n",
      "Fleetwood are the only team still to have a 100% record in Sky Bet League One as a 2-0 win over Scunthorpe sent Graham Alexander’s men top of the table. The Cod Army are playing in the third tier for the first time in their history after six promotions in nine years and their remarkable ascent shows no sign of slowing with Jamie Proctor and Gareth Evans scoring the goals at Glanford Park. Fleetwood were one of five teams to have won two out of two but the other four clubs - Peterborough, Bristol City, Chesterfield and Crawley - all hit their first stumbling blocks. Posh were defeated 2-1 by Sheffield United, who had lost both of their opening contests. Jose Baxter’s opener gave the Blades a first-half lead, and although it was later cancelled out by Shaun Brisley’s goal, Ben Davies snatched a winner six minutes from time. In the lead: Jose Baxter (right) celebrates opening the scoring for Sheffield United . Up for the battle: Sheffield United's Michael Doyle (left) challenges Peterborough's Kyle Vassell in a keenly-contested clash . Bristol City, who beat Nigel Clough’s men on the opening day, were held to a goalless draw by last season's play-off finalists Leyton Orient while Chesterfield, the League Two champions, were beaten 1-0 by MK Dons, who play Manchester United in the Capital One Cup in seven days’ time. Arsenal loanee Benik Afobe scored the only goal of the game just after the break. Meanwhile, Crawley lost their unbeaten status, while Bradford maintained theirs, thanks to a 3-1 win for the Bantams. James Hanson became the first player to score against Crawley this season after 49 minutes before Joe Walsh equalised five minutes later. Heads up: Bristol City's Korey Smith (left) and Leyton Orient's Lloyd James go up for a header . But strikes from Billy Knott and Mason Bennett sealed an impressive away win Phil Parkinson's men. Bradford are now second behind Fleetwood after Doncaster’s stoppage-time equaliser meant Preston, for whom Joe Garner signed a new contract earlier on Tuesday, were held to a 1-1 draw which slipped them down the table. Chris Humphrey looked to have secured the points for the Lilywhites but Nathan Tyson struck a last-gasp leveller. Stand-in striker Matt Done scored a hat-trick for Rochdale in the evening’s high-scoring affair as Crewe were hammered 5-2. Marcus Haber marked his full Railwaymen debut with a brace but Done’s treble and goals from Ian Henderson and Peter Vincenti helped Keith Hill’s men to a big away victory. There were plenty of goals between Coventry and Barnsley too in a 2-2 draw with all four goals coming in the first half. Josh McQuoid and Jordan Clarke twice gave the Sky Blues the lead, but the Tykes earned a point thanks to strikes from Conor Hourihane and Leroy Lita. Notts County recorded a 2-1 home win over Colchester with Ronan Murray and Liam Noble on target. Freddie Sears replied for Colchester. James Wilson's second half equaliser earned Oldham a points against Port Vale after Tom Pope's opener and Yeovil claimed a 2-1 away victory at Walsall with Kevin Dawson striking a late winner. Tom Bradshaw had equalised after veteran James Hayter gave the Glovers the lead. Finally, Swindon held Gillingham to a 2-2 draw thanks to Stephen Bywater’s last-minute own goal. Danny Kedwell and Kortney Hause twice gave the Gills the lead but Andy Williams pulled Swindon level before Bywater dropped Raphael Branco's cross into his own net. \n",
      "\n",
      "\n",
      "He's been accused of making many a fashion faux pas while on holiday. But the Prime Minister seems to be deaf to his critics. Yesterday David Cameron was seen in the same pair of beige loafers he wore on holiday last year. Mr Cameron, who is in Lanzarote with his family, got  the £20.99 shoes from high street store Aldo and took them with him to Portugal last summer. Retread: David Cameron with Samantha yesterday. And yes - he's wearing the same shoes . David Cameron and Samantha in Portugal last year - where he debuted his beige loafers . Yesterday he teamed them with a casual . navy blue shirt and beige shorts on a trip to Teguise in the centre of . the island with wife Samantha. As . ever fashion consultant Mrs Cameron trumped her husband in the style . stakes, wearing an elegant black maxi dress and emerald green cardigan. The . couple and their children Nancy, Arthur and Florence are spending six . days on the island in a £200-a-night restored 18th century farmhouse, . away from the main resorts. The Prime Minister sported no socks with smart black work shoes in one memorable holiday look . The couple wear matching trainers while on holiday in Granada, Spain, in 2011 . The . retreat has been styled with an Indonesian theme. It includes . carved Buddha statues, has its own yoga hall, swimming pool, hot tub . and ‘chill-out’ area with hammocks – ideal for a Prime  Minister who . reputedly has a taste for ‘chillaxing’. Mr . Cameron has previously been ridiculed for his holiday attire, such as . wearing smart black work shoes without socks and garish floral shorts. Refreshment: David Cameron and his wife Samantha stop off for a coffee and a water during their break in Lanzarote . Jetting off: In April, the Camerons holidayed in Lanzarote, staying in an upmarket hotel . The Camerons are holidaying in Lanzarote, the most eastern Canary Island . \n",
      "\n",
      "\n",
      "By . Daily Mail Reporter . PUBLISHED: . 01:15 EST, 30 November 2013 . | . UPDATED: . 01:23 EST, 30 November 2013 . More than two decades after Magic Johnson announced that he had HIV, the basketball player says he is still surprised at the impact the news had. The former Los Angeles Lakers player said when he was first told he had HIV he was convinced he was going to die, but advances in drugs has helped Johnson - and millions of others - survive. Johnson, who became the face of HIV/Aids 22 years ago, is now campaigning for more people to get tested for the disease, especially those in black or Hispanic communities. Campaign: Magic Johnson has dedicated his life to raising awareness about HIV over the past 22 years . 'We have to drive people to get tested, . because that's the most important thing,' he told CBS News. 'The stigma and fear . of knowing their status' is holding people back. Johnson admitted that when his team's doctor told him blood results had revealed he had HIV in 1991 he was 'devastated'. 'At that time, people were really dying of Aids. I was just scared to death,' he said. The NBA star began treatment with Dr Michael Mellman and Dr David Ho, a top HIV researcher, who reassured him that newly developed drugs would improve his chance of survival. But it was a meeting with Aids activist Elizabeth Glaser who helped Johnson come to terms with the diagnosis, and influenced his decision to publicly campaign to raise awareness. Legend: NBA star Johnson, pictured here in 1985, was playing for the Lakers when he was told he had HIV . 'Scared': Johnson announces he has HIV at a Los Angeles press conference in 1991. He and wife, Cookie, left, were devastated by the diagnosis . Johnson said that Glaser, whose HIV had developed to Aids, was able to answer questions from him and his wife Cookie, who was two months' pregnant at the time, about living with the disease. 'The one thing she did say was I was . going to live for a long time. And the thing that she asked me to do was . become the face of the disease,' he said. 'She felt it was really . important that I go public to help a lot of other people who were living . the same lifestyle who didn’t know they had HIV and needed to get . tested ... And she was absolutely right.' His wife, Cookie, who tested negative . along with their son, told the Huffington Post: 'For us, it was super . hard. That was back in the day, in 1991, when people were dying at . alarming rates. That was when people didn’t know anything about the . disease, so it was very frightening.' Awareness: This graph shows the estimated new HIV infections across subpopulations in the U.S. in 2010 . The couple have been leading advocates for HIV awareness, and Johnson recently campaigned in Harlem's Apollo Theater to raise awareness about the high rates of the disease in black and Hispanic communities. Despite representing only 12 per cent . of the population, black Americans account for about 44 per cent of new . HIV infections each year. They are also more likely to die from the . disease. Hispanic Americans are also more . likely to die from HIV than white Americans. According to the Centers . for Disease Control and Prevention, Hispanics make up 21 per cent of new . infections each year. Overall, about 1.1 million Americans are living . with HIV, according to federal estimates, with almost one in five . unaware of their infection. Support: Cookie and Magic Johnson in St Tropez earlier this year. Cookie was pregnant with their son when Johnson heard he had HIV . Star: NBA legend Magic Johnson has become a vital part of the Aids awareness campaign . 'In the black community, unfortunately, . we’re still in denial that it can happen to us. We haven’t done a . wonderful job of raising the awareness level or educating our people. Its gotten better since I announced 22 years ago, but it needs to get . much better,' he said. His campaign earlier this month was to raise awareness about Orasure’s OraQuick at-home HIV test. The event was held in the run up to World Aids Day on December 1. \n",
      "\n",
      "\n",
      "By . Daily Mail Reporter . This is the moment a train announcer stunned passengers by announcing over a tannoy as they pulled into a station to beware of pickpockets and gipsies. The London Midland service had been pulling into Telford Station, Shropshire, on Saturday when the comments were made. Passenger Chris Downes, 46, was recording on his mobile at the time and the announcer can clearly be heard saying: 'Telford Central - please be aware of pickpockets and gipsies'. Scroll down for video . This is the moment a train announcer stunned passengers by announcing over a tannoy as they pulled into a station to beware of pickpockets and gipsies . The remark was mainly greeted by cheers from Shrewsbury Town football fans travelling back from their game against Wolverhampton Wanderers. But London Midland said it is now launching an investigation into the incident on board the 17.25 Wolverhampton to Shrewsbury service. Yesterday Wolves fan Mr Downes, who was on his way home to Bayston Hill, Shropshire, with son Jack, 14, said: 'There had been loads of banter between the fans sharing carriages, which threatened to boil over. The atmosphere was a bit hostile at times. 'The announcement diluted the situation quite a bit and helped lighten the mood, to be honest.'But I thought at the time he might get into a bit of trouble for it. Which is shame really, because I’m sure it was intended in good humour. 'When we got to Shrewsbury he said \"Welcome back to civilisation\" and I for one am looking forward to travelling on his train again in future. 'There’s not enough train drivers with a sense of humour and I think his comments were only made in jest.' However, other passengers and residents of Telford yesterday reacted with disgust at the 'unprofessional' and 'offensive' comments. Mark Peaker, 47, a father-of-three, from Telford said: 'I couldn’t believe what I was hearing - they have not only used a derogatory term they have managed to offend an entire town. 'It suggests we are just a town full of thieves, which is not the case at all. Somebody in a professional role should not be insulting places while they are working. London Midland said it is now launching an investigation into the incident on board the 17.25 Wolverhampton to Shrewsbury service . 'I’m all for them having a sense of humour but this was not funny at all and I hope he is disciplined for his unprofessional actions.' One Wolves fan, who lives in Telford but wished to remain anonymous, was travelling back home from the derby match at Molineux, which ended 0-0. He said: 'I couldn’t believe it. I was utterly flabbergasted. 'Tensions among fans were already high after the match and I don’t think that helped the situation at all. The London Midland service had been pulling into Telford Station, Shropshire, on Saturday when the comments were made . 'Telford is actually a really nice place to live. It certainly isn’t up to a train announcer to make insulting comments about it.' The Gipsy Council called for the matter to be taken up with the police and branded the remarks as racist. Bill Kerswell, a spokesman for the council, said: 'This is unlawful, it is a racist comment. 'It is the same as using any offensive word relating to homosexuals or people of colour. 'I would think it is a police matter and I hope they take it up and look into it.' A spokesman for the train company thanked passengers for drawing it to their attention and added: 'We do not tolerate any sort of comment of that kind made by anyone on our trains and will be looking into it immediately.' \n",
      "\n",
      "\n"
     ]
    }
   ],
   "source": [
    "for i in range(8):\n",
    "    print(df_train.iloc[i, 1], '\\n\\n')"
   ]
  },
  {
   "attachments": {},
   "cell_type": "markdown",
   "metadata": {},
   "source": [
    "I want to examine how the number of characters is distributed"
   ]
  },
  {
   "cell_type": "code",
   "execution_count": 8,
   "metadata": {},
   "outputs": [
    {
     "data": {
      "image/png": "[encoded data removed]",
      "text/plain": [
       "<Figure size 640x480 with 1 Axes>"
      ]
     },
     "metadata": {},
     "output_type": "display_data"
    }
   ],
   "source": [
    "sns.histplot(x=df_train.article.apply(lambda x: len(x)));"
   ]
  },
  {
   "attachments": {},
   "cell_type": "markdown",
   "metadata": {},
   "source": [
    "there is very little around 0, I would like to check later that these numbers are not too low, and see if they are valid articles (maybe below 30)\n",
    "we also have a long tail with a very high number of charters, and a very low number of samples in that area (above 12000)\n",
    "Overall it is lightly right-skewed normally distributed, as expected."
   ]
  },
  {
   "attachments": {},
   "cell_type": "markdown",
   "metadata": {},
   "source": [
    "let's see that number of words in each article is distributed in the same way:"
   ]
  },
  {
   "cell_type": "code",
   "execution_count": 9,
   "metadata": {},
   "outputs": [
    {
     "data": {
      "image/png": "[encoded data removed]",
      "text/plain": [
       "<Figure size 640x480 with 1 Axes>"
      ]
     },
     "metadata": {},
     "output_type": "display_data"
    }
   ],
   "source": [
    "sns.histplot(x=df_train.article.apply(lambda x: len(x.split())));\n"
   ]
  },
  {
   "attachments": {},
   "cell_type": "markdown",
   "metadata": {},
   "source": [
    "Looks good."
   ]
  },
  {
   "cell_type": "code",
   "execution_count": 10,
   "metadata": {},
   "outputs": [
    {
     "data": {
      "text/html": [
       "<div>\n",
       "<style scoped>\n",
       "    .dataframe tbody tr th:only-of-type {\n",
       "        vertical-align: middle;\n",
       "    }\n",
       "\n",
       "    .dataframe tbody tr th {\n",
       "        vertical-align: top;\n",
       "    }\n",
       "\n",
       "    .dataframe thead th {\n",
       "        text-align: right;\n",
       "    }\n",
       "</style>\n",
       "<table border=\"1\" class=\"dataframe\">\n",
       "  <thead>\n",
       "    <tr style=\"text-align: right;\">\n",
       "      <th></th>\n",
       "      <th>id</th>\n",
       "      <th>article</th>\n",
       "      <th>highlights</th>\n",
       "    </tr>\n",
       "  </thead>\n",
       "  <tbody>\n",
       "    <tr>\n",
       "      <th>0</th>\n",
       "      <td>e9006139909df25f212ba8d7713bd7688e0aca74</td>\n",
       "      <td>Ronan Ghosh, 39, stole £200 worth of meat and ...</td>\n",
       "      <td>Ronan Ghosh, 39, was shopping at Tesco store i...</td>\n",
       "    </tr>\n",
       "  </tbody>\n",
       "</table>\n",
       "</div>"
      ],
      "text/plain": [
       "                                         id  \\\n",
       "0  e9006139909df25f212ba8d7713bd7688e0aca74   \n",
       "\n",
       "                                             article  \\\n",
       "0  Ronan Ghosh, 39, stole £200 worth of meat and ...   \n",
       "\n",
       "                                          highlights  \n",
       "0  Ronan Ghosh, 39, was shopping at Tesco store i...  "
      ]
     },
     "execution_count": 10,
     "metadata": {},
     "output_type": "execute_result"
    }
   ],
   "source": [
    "df_test = pd.read_csv('sub_test.csv')\n",
    "df_test.head(1)"
   ]
  },
  {
   "cell_type": "code",
   "execution_count": null,
   "metadata": {},
   "outputs": [],
   "source": []
  },
  {
   "attachments": {},
   "cell_type": "markdown",
   "metadata": {},
   "source": [
    "## preprosseing"
   ]
  },
  {
   "attachments": {},
   "cell_type": "markdown",
   "metadata": {},
   "source": [
    "First we will tokenizing each artical into sentences"
   ]
  },
  {
   "cell_type": "code",
   "execution_count": 4,
   "metadata": {},
   "outputs": [
    {
     "data": {
      "text/plain": [
       "['0001d1afc246a7964130f43ae940af6bc6c57f01']"
      ]
     },
     "execution_count": 4,
     "metadata": {},
     "output_type": "execute_result"
    }
   ],
   "source": [
    "import nltk\n",
    "from nltk.tokenize import word_tokenize, sent_tokenize\n",
    "\n",
    "artical = str(df_train.iloc[0, 0])\n",
    "sentences = sent_tokenize(artical)\n",
    "sentences"
   ]
  },
  {
   "attachments": {},
   "cell_type": "markdown",
   "metadata": {},
   "source": [
    "## Models"
   ]
  },
  {
   "attachments": {},
   "cell_type": "markdown",
   "metadata": {},
   "source": [
    "### Random Model\n",
    "\n",
    "This model takes randomly some sentences in the text to create the summary.\n",
    "\n"
   ]
  },
  {
   "cell_type": "code",
   "execution_count": 5,
   "metadata": {},
   "outputs": [],
   "source": [
    "class RandomModel:\n",
    "    def summarize(self, articles, threshold=0.2):\n",
    "        result = []\n",
    "        for article in articles:\n",
    "            sentence_tokenized = sent_tokenize(article)\n",
    "            num_sentences = int(threshold*len(sentence_tokenized))\n",
    "            index_sentences_summary = np.sort(np.random.choice(len(sentence_tokenized), \n",
    "                                                               num_sentences, \n",
    "                                                               replace=False))\n",
    "            summary = \" \".join(list(np.array(sentence_tokenized)[index_sentences_summary]))\n",
    "            result.append(summary)\n",
    "        return result"
   ]
  },
  {
   "cell_type": "code",
   "execution_count": 6,
   "metadata": {},
   "outputs": [],
   "source": [
    "rm = RandomModel()\n",
    "summaries = rm.summarize(df_train[\"article\"].values)\n",
    "\n"
   ]
  },
  {
   "cell_type": "code",
   "execution_count": 7,
   "metadata": {},
   "outputs": [
    {
     "data": {
      "text/plain": [
       "'PUBLISHED: . The bishop of the Fargo Catholic Diocese in North Dakota has exposed potentially hundreds of church members in Fargo, Grand Forks and Jamestown to the hepatitis A virus in late September and early October. Fargo Catholic Diocese in North Dakota (pictured) is where the bishop is located .'"
      ]
     },
     "execution_count": 7,
     "metadata": {},
     "output_type": "execute_result"
    }
   ],
   "source": [
    "\n",
    "random_summaries = summaries\n",
    "random_summaries[0]"
   ]
  },
  {
   "cell_type": "code",
   "execution_count": 8,
   "metadata": {},
   "outputs": [],
   "source": [
    "random_val_summaries = rm.summarize(df_val[\"article\"].values)"
   ]
  },
  {
   "cell_type": "code",
   "execution_count": 11,
   "metadata": {},
   "outputs": [],
   "source": [
    "random_test_summaries = rm.summarize(df_test[\"article\"].values)"
   ]
  },
  {
   "attachments": {},
   "cell_type": "markdown",
   "metadata": {},
   "source": [
    "### Weight Sentences Model"
   ]
  },
  {
   "cell_type": "code",
   "execution_count": 16,
   "metadata": {},
   "outputs": [],
   "source": [
    "class WeightedModel:\n",
    "    def create_dictionary_table(self, text_string) -> dict:\n",
    "        # Removing stop words\n",
    "        stop_words = set(stopwords.words(\"english\"))\n",
    "        \n",
    "        words = word_tokenize(text_string)\n",
    "        \n",
    "        # Reducing words to their root form\n",
    "        stem = PorterStemmer()\n",
    "        \n",
    "        # Creating dictionary for the word frequency table\n",
    "        frequency_table = dict()\n",
    "        for wd in words:\n",
    "            wd = stem.stem(wd)\n",
    "            if wd in stop_words:\n",
    "                continue\n",
    "            if wd in frequency_table:\n",
    "                frequency_table[wd] += 1\n",
    "            else:\n",
    "                frequency_table[wd] = 1\n",
    "\n",
    "        return frequency_table\n",
    "    \n",
    "    def calculate_weight(self, sentence, frequency_table):\n",
    "        # the weight of a sentence is the sum of all the frequency of the words in it, divided by the lentgh of the sentence (num of words)\n",
    "        words = word_tokenize(sentence)\n",
    "\n",
    "        stem = PorterStemmer()\n",
    "\n",
    "        weight = 0\n",
    "        for wd in words:\n",
    "            wd = stem.stem(wd)\n",
    "            if wd not in frequency_table.keys():\n",
    "                continue\n",
    "            weight += frequency_table[wd]\n",
    "        \n",
    "        return weight/len(words)\n",
    "\n",
    "    def summarize(self, articals, num_of_sentences=2):\n",
    "        result = []\n",
    "        for artical in articals:\n",
    "            frequency_table = self.create_dictionary_table(artical)\n",
    "            sentence_tokenized = sent_tokenize(artical)\n",
    "            weights = [self.calculate_weight(sentence, frequency_table) for sentence in sentence_tokenized]\n",
    "            idxs = np.argsort(weights)\n",
    "            summary = \" \".join(list(np.array(sentence_tokenized)[idxs[:num_of_sentences]]))\n",
    "            result.append(summary)\n",
    "        return result\n"
   ]
  },
  {
   "cell_type": "code",
   "execution_count": 17,
   "metadata": {},
   "outputs": [],
   "source": [
    "weight_m = WeightedModel()"
   ]
  },
  {
   "cell_type": "code",
   "execution_count": null,
   "metadata": {},
   "outputs": [],
   "source": [
    "sub_df_train = df_train.sample(100)\n",
    "\n",
    "# summaries = weight_m.summarize(df_train.article.values)\n",
    "# summaries_df = pd.DataFrame({'id': df_train.id, 'summary': summaries})\n",
    "# summaries_df.to_csv('summaries by sentences weights.csv')\n",
    "# summaries_df\n",
    "\n",
    "summaries_df = pd.read_csv('summaries by sentences weights.csv')\n",
    "summaries = summaries_df.summary.values\n"
   ]
  },
  {
   "cell_type": "code",
   "execution_count": null,
   "metadata": {},
   "outputs": [
    {
     "data": {
      "text/plain": [
       "(13368, 3)"
      ]
     },
     "execution_count": 16,
     "metadata": {},
     "output_type": "execute_result"
    }
   ],
   "source": [
    "df_val.shape"
   ]
  },
  {
   "cell_type": "code",
   "execution_count": null,
   "metadata": {},
   "outputs": [
    {
     "data": {
      "text/html": [
       "<div>\n",
       "<style scoped>\n",
       "    .dataframe tbody tr th:only-of-type {\n",
       "        vertical-align: middle;\n",
       "    }\n",
       "\n",
       "    .dataframe tbody tr th {\n",
       "        vertical-align: top;\n",
       "    }\n",
       "\n",
       "    .dataframe thead th {\n",
       "        text-align: right;\n",
       "    }\n",
       "</style>\n",
       "<table border=\"1\" class=\"dataframe\">\n",
       "  <thead>\n",
       "    <tr style=\"text-align: right;\">\n",
       "      <th></th>\n",
       "      <th>id</th>\n",
       "      <th>summary</th>\n",
       "    </tr>\n",
       "  </thead>\n",
       "  <tbody>\n",
       "    <tr>\n",
       "      <th>0</th>\n",
       "      <td>61df4979ac5fcc2b71be46ed6fe5a46ce7f071c3</td>\n",
       "      <td>She also starred in a Broadway production of T...</td>\n",
       "    </tr>\n",
       "    <tr>\n",
       "      <th>1</th>\n",
       "      <td>21c0bd69b7e7df285c3d1b1cf56d4da925980a68</td>\n",
       "      <td>'By drawing what I see I become far more a par...</td>\n",
       "    </tr>\n",
       "    <tr>\n",
       "      <th>2</th>\n",
       "      <td>56f340189cd128194b2e7cb8c26bb900e3a848b4</td>\n",
       "      <td>She broke up with him when her Hindu parents a...</td>\n",
       "    </tr>\n",
       "    <tr>\n",
       "      <th>3</th>\n",
       "      <td>00a665151b89a53e5a08a389df8334f4106494c2</td>\n",
       "      <td>His brother Prince William is also a fan and e...</td>\n",
       "    </tr>\n",
       "    <tr>\n",
       "      <th>4</th>\n",
       "      <td>9f6fbd3c497c4d28879bebebea220884f03eb41a</td>\n",
       "      <td>'The Producers had a few drinks on Friday &amp; Ha...</td>\n",
       "    </tr>\n",
       "    <tr>\n",
       "      <th>...</th>\n",
       "      <td>...</td>\n",
       "      <td>...</td>\n",
       "    </tr>\n",
       "    <tr>\n",
       "      <th>13363</th>\n",
       "      <td>e93f721ba4949f21f33549c4a21d55ff456af979</td>\n",
       "      <td>Ministers also want to make it easier for a ba...</td>\n",
       "    </tr>\n",
       "    <tr>\n",
       "      <th>13364</th>\n",
       "      <td>8df19a570ad14119a7d00f3bbe864fedf8c1691d</td>\n",
       "      <td>The GB Team runner takes a tumble after crossi...</td>\n",
       "    </tr>\n",
       "    <tr>\n",
       "      <th>13365</th>\n",
       "      <td>2fdd5f89aa26e91ceea9b0ef264abfcfc3e6fa2e</td>\n",
       "      <td>Matt Doherty wriggled free on the right and cr...</td>\n",
       "    </tr>\n",
       "    <tr>\n",
       "      <th>13366</th>\n",
       "      <td>530d7b18d7a715b368b0745f9dfebfe353adeda8</td>\n",
       "      <td>For confidential support on suicide matters ca...</td>\n",
       "    </tr>\n",
       "    <tr>\n",
       "      <th>13367</th>\n",
       "      <td>42d6f6e10a45ff469fbe3ef7345838aa45dcdd61</td>\n",
       "      <td>One of the elements of the process they found ...</td>\n",
       "    </tr>\n",
       "  </tbody>\n",
       "</table>\n",
       "<p>13368 rows × 2 columns</p>\n",
       "</div>"
      ],
      "text/plain": [
       "                                             id  \\\n",
       "0      61df4979ac5fcc2b71be46ed6fe5a46ce7f071c3   \n",
       "1      21c0bd69b7e7df285c3d1b1cf56d4da925980a68   \n",
       "2      56f340189cd128194b2e7cb8c26bb900e3a848b4   \n",
       "3      00a665151b89a53e5a08a389df8334f4106494c2   \n",
       "4      9f6fbd3c497c4d28879bebebea220884f03eb41a   \n",
       "...                                         ...   \n",
       "13363  e93f721ba4949f21f33549c4a21d55ff456af979   \n",
       "13364  8df19a570ad14119a7d00f3bbe864fedf8c1691d   \n",
       "13365  2fdd5f89aa26e91ceea9b0ef264abfcfc3e6fa2e   \n",
       "13366  530d7b18d7a715b368b0745f9dfebfe353adeda8   \n",
       "13367  42d6f6e10a45ff469fbe3ef7345838aa45dcdd61   \n",
       "\n",
       "                                                 summary  \n",
       "0      She also starred in a Broadway production of T...  \n",
       "1      'By drawing what I see I become far more a par...  \n",
       "2      She broke up with him when her Hindu parents a...  \n",
       "3      His brother Prince William is also a fan and e...  \n",
       "4      'The Producers had a few drinks on Friday & Ha...  \n",
       "...                                                  ...  \n",
       "13363  Ministers also want to make it easier for a ba...  \n",
       "13364  The GB Team runner takes a tumble after crossi...  \n",
       "13365  Matt Doherty wriggled free on the right and cr...  \n",
       "13366  For confidential support on suicide matters ca...  \n",
       "13367  One of the elements of the process they found ...  \n",
       "\n",
       "[13368 rows x 2 columns]"
      ]
     },
     "execution_count": 19,
     "metadata": {},
     "output_type": "execute_result"
    }
   ],
   "source": [
    "val_summaries = weight_m.summarize(df_val.article.values)\n",
    "val_summaries_df = pd.DataFrame({'id': df_val.id, 'summary': val_summaries})\n",
    "val_summaries_df.to_csv('validation summaries by sentences weights.csv')\n",
    "val_summaries_df"
   ]
  },
  {
   "cell_type": "code",
   "execution_count": 18,
   "metadata": {},
   "outputs": [],
   "source": [
    "test_summaries = weight_m.summarize(df_test.article.values)"
   ]
  },
  {
   "attachments": {},
   "cell_type": "markdown",
   "metadata": {},
   "source": [
    "# Model Evaluation"
   ]
  },
  {
   "cell_type": "code",
   "execution_count": null,
   "id": "e8976e8f",
   "metadata": {
    "ExecuteTime": {
     "end_time": "2023-02-08T11:12:45.724727Z",
     "start_time": "2023-02-08T11:12:45.705333Z"
    }
   },
   "outputs": [],
   "source": [
    "def evaluate_similarity(true_summary, pred_summary):\n",
    "    vectorizer = TfidfVectorizer()\n",
    "    tfidf_matrix = vectorizer.fit_transform([true_summary, pred_summary])\n",
    "    cosine_sim = cosine_similarity(tfidf_matrix, tfidf_matrix)[0, 1]\n",
    "    return cosine_sim\n"
   ]
  },
  {
   "cell_type": "code",
   "execution_count": null,
   "id": "930cebcf",
   "metadata": {
    "ExecuteTime": {
     "end_time": "2023-02-08T11:15:22.763997Z",
     "start_time": "2023-02-08T11:15:22.756803Z"
    }
   },
   "outputs": [],
   "source": [
    "def calculate_all_similarities(true_summaries, pred_summaries):\n",
    "    assert len(true_summaries) == len(pred_summaries)\n",
    "    similarities = []\n",
    "    for true_summary, pred_summary in zip(true_summaries, pred_summaries):\n",
    "        similarities.append(evaluate_similarity(true_summary, pred_summary))\n",
    "    return similarities"
   ]
  },
  {
   "attachments": {},
   "cell_type": "markdown",
   "metadata": {},
   "source": [
    "### Weighted Sentenced"
   ]
  },
  {
   "cell_type": "code",
   "execution_count": null,
   "id": "0c17d744",
   "metadata": {
    "ExecuteTime": {
     "end_time": "2023-02-08T11:15:54.612621Z",
     "start_time": "2023-02-08T11:15:47.739847Z"
    },
    "collapsed": true
   },
   "outputs": [],
   "source": [
    "train_scores = calculate_all_similarities(df_train['highlights'].values, summaries)\n",
    "val_scores = calculate_all_similarities(df_val['highlights'].values, val_summaries)\n"
   ]
  },
  {
   "cell_type": "code",
   "execution_count": null,
   "metadata": {},
   "outputs": [
    {
     "name": "stdout",
     "output_type": "stream",
     "text": [
      "Average score on train set: 0.19\n",
      "Average score on validation set: 0.2\n",
      "Scores variance on train set: 0.012\n",
      "Scores variance on validation set: 0.012\n"
     ]
    }
   ],
   "source": [
    "print(f'Average score on train set: {np.mean(train_scores):.2}')\n",
    "print(f'Average score on validation set: {np.mean(val_scores):.2}')\n",
    "print(f'Scores variance on train set: {np.var(train_scores):.2}')\n",
    "print(f'Scores variance on validation set: {np.var(val_scores):.2}')\n",
    "\n"
   ]
  },
  {
   "cell_type": "code",
   "execution_count": null,
   "metadata": {},
   "outputs": [
    {
     "data": {
      "image/png": "[encoded data removed]",
      "text/plain": [
       "<Figure size 640x480 with 1 Axes>"
      ]
     },
     "metadata": {},
     "output_type": "display_data"
    }
   ],
   "source": [
    "sns.histplot(x=train_scores, color = 'red', stat='percent', alpha=0.6, bins=50, label='train')\n",
    "sns.histplot(x=val_scores, color='blue', stat='percent', alpha=0.5, bins=50, label='validation')\n",
    "plt.title('Similarities score distribution')\n",
    "plt.legend();\n"
   ]
  },
  {
   "attachments": {},
   "cell_type": "markdown",
   "metadata": {},
   "source": [
    "### Random Model"
   ]
  },
  {
   "cell_type": "code",
   "execution_count": null,
   "metadata": {},
   "outputs": [],
   "source": [
    "train_random_scores = calculate_all_similarities(df_train['highlights'].values, random_summaries)\n",
    "val_random_scores = calculate_all_similarities(df_val['highlights'].values, random_val_summaries)\n"
   ]
  },
  {
   "cell_type": "code",
   "execution_count": null,
   "metadata": {},
   "outputs": [
    {
     "name": "stdout",
     "output_type": "stream",
     "text": [
      "Average score on train set: 0.29\n",
      "Average score on validation set: 0.32\n",
      "Scores variance on train set: 0.015\n",
      "Scores variance on validation set: 0.016\n"
     ]
    }
   ],
   "source": [
    "print(f'Average score on train set: {np.mean(train_random_scores):.2}')\n",
    "print(f'Average score on validation set: {np.mean(val_random_scores):.2}')\n",
    "print(f'Scores variance on train set: {np.var(train_random_scores):.2}')\n",
    "print(f'Scores variance on validation set: {np.var(val_random_scores):.2}')\n",
    "\n"
   ]
  },
  {
   "cell_type": "code",
   "execution_count": null,
   "metadata": {},
   "outputs": [
    {
     "data": {
      "image/png": "[encoded data removed]",
      "text/plain": [
       "<Figure size 640x480 with 1 Axes>"
      ]
     },
     "metadata": {},
     "output_type": "display_data"
    }
   ],
   "source": [
    "sns.histplot(x=train_random_scores, color = 'red', stat='percent', alpha=0.6, bins=50, label='train')\n",
    "sns.histplot(x=val_random_scores, color='blue', stat='percent', alpha=0.5, bins=50, label='validation')\n",
    "plt.title('Similarities score distribution')\n",
    "plt.legend();"
   ]
  },
  {
   "attachments": {},
   "cell_type": "markdown",
   "metadata": {},
   "source": [
    "### BLEU score"
   ]
  },
  {
   "cell_type": "code",
   "execution_count": 20,
   "metadata": {},
   "outputs": [],
   "source": [
    "bleu = evaluate.load(\"bleu\")\n",
    "references =[[highlight] for highlight in df_test['highlights'].values]"
   ]
  },
  {
   "attachments": {},
   "cell_type": "markdown",
   "metadata": {},
   "source": [
    "#### Random"
   ]
  },
  {
   "cell_type": "code",
   "execution_count": 21,
   "metadata": {},
   "outputs": [
    {
     "data": {
      "text/plain": [
       "{'bleu': 0.049900276809892716,\n",
       " 'precisions': [0.18875296458358864,\n",
       "  0.05733973265177204,\n",
       "  0.029745840190162735,\n",
       "  0.0192591064481905],\n",
       " 'brevity_penalty': 1.0,\n",
       " 'length_ratio': 2.4154797144349645,\n",
       " 'translation_length': 138721,\n",
       " 'reference_length': 57430}"
      ]
     },
     "execution_count": 21,
     "metadata": {},
     "output_type": "execute_result"
    }
   ],
   "source": [
    "\n",
    "bleu.compute(predictions=random_test_summaries, references=references)\n"
   ]
  },
  {
   "cell_type": "markdown",
   "metadata": {},
   "source": [
    "##### Weighted Sentenced"
   ]
  },
  {
   "cell_type": "code",
   "execution_count": 22,
   "metadata": {},
   "outputs": [
    {
     "data": {
      "text/plain": [
       "{'bleu': 0.04076284619092154,\n",
       " 'precisions': [0.23508644012510313,\n",
       "  0.04804663810474011,\n",
       "  0.023564858231737734,\n",
       "  0.01559541502941955],\n",
       " 'brevity_penalty': 0.9030803904217664,\n",
       " 'length_ratio': 0.907487375935922,\n",
       " 'translation_length': 52117,\n",
       " 'reference_length': 57430}"
      ]
     },
     "execution_count": 22,
     "metadata": {},
     "output_type": "execute_result"
    }
   ],
   "source": [
    "bleu.compute(predictions=test_summaries, references=references)\n",
    "\n"
   ]
  }
 ],
 "metadata": {
  "kernelspec": {
   "display_name": "base",
   "language": "python",
   "name": "python3"
  },
  "language_info": {
   "codemirror_mode": {
    "name": "ipython",
    "version": 3
   },
   "file_extension": ".py",
   "mimetype": "text/x-python",
   "name": "python",
   "nbconvert_exporter": "python",
   "pygments_lexer": "ipython3",
   "version": "3.9.13"
  },
  "orig_nbformat": 4,
  "vscode": {
   "interpreter": {
    "hash": "18ddd52115af43e00f59bb7c7623774c889301839a50976f28957e46bb281024"
   }
  }
 },
 "nbformat": 4,
 "nbformat_minor": 2
}
