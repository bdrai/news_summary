{
 "cells": [
  {
   "cell_type": "code",
   "execution_count": 1,
   "id": "69b56da4",
   "metadata": {
    "ExecuteTime": {
     "end_time": "2023-02-07T13:03:45.676141Z",
     "start_time": "2023-02-07T13:03:44.494818Z"
    }
   },
   "outputs": [
    {
     "name": "stderr",
     "output_type": "stream",
     "text": [
      "[nltk_data] Downloading package stopwords to\n",
      "[nltk_data]     /Users/benjamindrai/nltk_data...\n",
      "[nltk_data]   Package stopwords is already up-to-date!\n",
      "[nltk_data] Downloading package punkt to\n",
      "[nltk_data]     /Users/benjamindrai/nltk_data...\n",
      "[nltk_data]   Package punkt is already up-to-date!\n"
     ]
    }
   ],
   "source": [
    "import numpy as np\n",
    "import matplotlib.pyplot as plt\n",
    "import seaborn as sns\n",
    "import pandas as pd\n",
    "\n",
    "import nltk\n",
    "nltk.download('stopwords')\n",
    "nltk.download('punkt')\n",
    "\n",
    "from nltk.tokenize import word_tokenize, sent_tokenize\n",
    "from nltk.corpus import stopwords\n",
    "from nltk.stem import PorterStemmer\n",
    "from nltk.tokenize import word_tokenize"
   ]
  },
  {
   "cell_type": "markdown",
   "id": "f8bf930f",
   "metadata": {},
   "source": [
    "# Dataset\n",
    "\n",
    "https://www.kaggle.com/datasets/gowrishankarp/newspaper-text-summarization-cnn-dailymail"
   ]
  },
  {
   "cell_type": "markdown",
   "id": "0e624093",
   "metadata": {},
   "source": [
    "# EDA"
   ]
  },
  {
   "cell_type": "code",
   "execution_count": 2,
   "id": "ed80d350",
   "metadata": {
    "ExecuteTime": {
     "end_time": "2023-02-07T13:03:54.788269Z",
     "start_time": "2023-02-07T13:03:45.677733Z"
    }
   },
   "outputs": [],
   "source": [
    "df_train = pd.read_csv(\"cnn_dailymail/train.csv\")"
   ]
  },
  {
   "cell_type": "code",
   "execution_count": 3,
   "id": "00435a63",
   "metadata": {
    "ExecuteTime": {
     "end_time": "2023-02-07T13:03:54.797651Z",
     "start_time": "2023-02-07T13:03:54.790424Z"
    }
   },
   "outputs": [
    {
     "data": {
      "text/html": [
       "<div>\n",
       "<style scoped>\n",
       "    .dataframe tbody tr th:only-of-type {\n",
       "        vertical-align: middle;\n",
       "    }\n",
       "\n",
       "    .dataframe tbody tr th {\n",
       "        vertical-align: top;\n",
       "    }\n",
       "\n",
       "    .dataframe thead th {\n",
       "        text-align: right;\n",
       "    }\n",
       "</style>\n",
       "<table border=\"1\" class=\"dataframe\">\n",
       "  <thead>\n",
       "    <tr style=\"text-align: right;\">\n",
       "      <th></th>\n",
       "      <th>id</th>\n",
       "      <th>article</th>\n",
       "      <th>highlights</th>\n",
       "    </tr>\n",
       "  </thead>\n",
       "  <tbody>\n",
       "    <tr>\n",
       "      <th>0</th>\n",
       "      <td>0001d1afc246a7964130f43ae940af6bc6c57f01</td>\n",
       "      <td>By . Associated Press . PUBLISHED: . 14:11 EST...</td>\n",
       "      <td>Bishop John Folda, of North Dakota, is taking ...</td>\n",
       "    </tr>\n",
       "    <tr>\n",
       "      <th>1</th>\n",
       "      <td>0002095e55fcbd3a2f366d9bf92a95433dc305ef</td>\n",
       "      <td>(CNN) -- Ralph Mata was an internal affairs li...</td>\n",
       "      <td>Criminal complaint: Cop used his role to help ...</td>\n",
       "    </tr>\n",
       "    <tr>\n",
       "      <th>2</th>\n",
       "      <td>00027e965c8264c35cc1bc55556db388da82b07f</td>\n",
       "      <td>A drunk driver who killed a young woman in a h...</td>\n",
       "      <td>Craig Eccleston-Todd, 27, had drunk at least t...</td>\n",
       "    </tr>\n",
       "    <tr>\n",
       "      <th>3</th>\n",
       "      <td>0002c17436637c4fe1837c935c04de47adb18e9a</td>\n",
       "      <td>(CNN) -- With a breezy sweep of his pen Presid...</td>\n",
       "      <td>Nina dos Santos says Europe must be ready to a...</td>\n",
       "    </tr>\n",
       "    <tr>\n",
       "      <th>4</th>\n",
       "      <td>0003ad6ef0c37534f80b55b4235108024b407f0b</td>\n",
       "      <td>Fleetwood are the only team still to have a 10...</td>\n",
       "      <td>Fleetwood top of League One after 2-0 win at S...</td>\n",
       "    </tr>\n",
       "  </tbody>\n",
       "</table>\n",
       "</div>"
      ],
      "text/plain": [
       "                                         id  \\\n",
       "0  0001d1afc246a7964130f43ae940af6bc6c57f01   \n",
       "1  0002095e55fcbd3a2f366d9bf92a95433dc305ef   \n",
       "2  00027e965c8264c35cc1bc55556db388da82b07f   \n",
       "3  0002c17436637c4fe1837c935c04de47adb18e9a   \n",
       "4  0003ad6ef0c37534f80b55b4235108024b407f0b   \n",
       "\n",
       "                                             article  \\\n",
       "0  By . Associated Press . PUBLISHED: . 14:11 EST...   \n",
       "1  (CNN) -- Ralph Mata was an internal affairs li...   \n",
       "2  A drunk driver who killed a young woman in a h...   \n",
       "3  (CNN) -- With a breezy sweep of his pen Presid...   \n",
       "4  Fleetwood are the only team still to have a 10...   \n",
       "\n",
       "                                          highlights  \n",
       "0  Bishop John Folda, of North Dakota, is taking ...  \n",
       "1  Criminal complaint: Cop used his role to help ...  \n",
       "2  Craig Eccleston-Todd, 27, had drunk at least t...  \n",
       "3  Nina dos Santos says Europe must be ready to a...  \n",
       "4  Fleetwood top of League One after 2-0 win at S...  "
      ]
     },
     "execution_count": 3,
     "metadata": {},
     "output_type": "execute_result"
    }
   ],
   "source": [
    "df_train.head()"
   ]
  },
  {
   "cell_type": "code",
   "execution_count": null,
   "id": "f8ae10bd",
   "metadata": {},
   "outputs": [],
   "source": [
    "df_"
   ]
  },
  {
   "cell_type": "code",
   "execution_count": 4,
   "id": "aae87ad1",
   "metadata": {
    "ExecuteTime": {
     "end_time": "2023-02-07T13:03:54.802046Z",
     "start_time": "2023-02-07T13:03:54.800175Z"
    }
   },
   "outputs": [
    {
     "name": "stdout",
     "output_type": "stream",
     "text": [
      "Shape:  (287113, 3)\n"
     ]
    }
   ],
   "source": [
    "print(\"Shape: \", df_train.shape)"
   ]
  },
  {
   "cell_type": "code",
   "execution_count": 5,
   "id": "0927fc97",
   "metadata": {
    "ExecuteTime": {
     "end_time": "2023-02-07T13:03:54.891348Z",
     "start_time": "2023-02-07T13:03:54.803186Z"
    }
   },
   "outputs": [
    {
     "data": {
      "text/plain": [
       "id            0\n",
       "article       0\n",
       "highlights    0\n",
       "dtype: int64"
      ]
     },
     "execution_count": 5,
     "metadata": {},
     "output_type": "execute_result"
    }
   ],
   "source": [
    "df_train.isna().sum()"
   ]
  },
  {
   "cell_type": "code",
   "execution_count": 6,
   "id": "1e5cc55c",
   "metadata": {
    "ExecuteTime": {
     "end_time": "2023-02-07T13:03:58.529042Z",
     "start_time": "2023-02-07T13:03:54.892202Z"
    }
   },
   "outputs": [
    {
     "data": {
      "text/plain": [
       "3098"
      ]
     },
     "execution_count": 6,
     "metadata": {},
     "output_type": "execute_result"
    }
   ],
   "source": [
    "df_train.duplicated(subset= ['article', 'highlights']).sum()"
   ]
  },
  {
   "cell_type": "code",
   "execution_count": 7,
   "id": "7bdfb757",
   "metadata": {
    "ExecuteTime": {
     "end_time": "2023-02-07T13:04:05.091366Z",
     "start_time": "2023-02-07T13:03:58.530039Z"
    }
   },
   "outputs": [],
   "source": [
    "df_train = df_train.drop_duplicates(subset= ['article', 'highlights'])\n",
    "assert df_train.duplicated(subset= ['article', 'highlights']).sum() == 0"
   ]
  },
  {
   "cell_type": "code",
   "execution_count": 8,
   "id": "00dfc7e9",
   "metadata": {
    "ExecuteTime": {
     "end_time": "2023-02-07T13:04:05.097698Z",
     "start_time": "2023-02-07T13:04:05.092325Z"
    }
   },
   "outputs": [
    {
     "name": "stdout",
     "output_type": "stream",
     "text": [
      "Example: \n",
      "\n",
      "Article: \n",
      "\n",
      "(CNN Student News) -- October 15, 2013 . With the debt ceiling deadline days away, leaders in Washington say they're optimistic about reaching a deal. We also discuss an infectious bacterium that appeared in an NFL locker room, and we explain the Muslim ritual of Hajj. Plus, we make a Career Connection with an opera singer, and a high school elects a king and queen that students say embody the spirit of homecoming. On this page you will find today's show Transcript, the Daily Curriculum, Maps pertaining to today's show, and a place for you to leave feedback. TRANSCRIPT . Click here to access the transcript of today's CNN Student News program. Please note that there may be a delay between the time when the video is available and when the transcript is published. DAILY CURRICULUM . Click here for a printable version of the Daily Curriculum (PDF). Media Literacy Question of the Day: . What are the benefits and limitations of a news report about a medical issue? Where could you go to get more complete information? Key Concepts: Identify or explain these subjects you heard about in today's show: . 1. Methicillin-resistant Staphylococcus aureus (MRSA) 2. Hajj . 3. supply and demand . Fast Facts: How well were you listening to today's program? 1. What's the status of the congressional debate over the debt ceiling? Who are some of the major players in this debate? 2. Why are there concerns over MRSA? What are some ways to prevent the spread of this bacterium? 3. What advice does opera singer Christian Figueroa have about a career in the arts? Discussion Questions: . 1. Do you think that both houses of Congress and President Obama will agree on a debt ceiling deal by October 17? Why or why not? What do you think are some of the challenges of reaching an agreement? 2. What do you think of fish farms as a solution to meeting the demand for fish? How might they compare and contrast with ocean fishing? What is your opinion of the fish farm described in the report? 3. In your view, what characteristics should a homecoming king or queen possess? What were your thoughts on the homecoming story in the program? CNN Student News is created by a team of journalists and educators who consider the Common Core State Standards, national standards in different subject areas, and state standards when producing the show and curriculum. We hope you use our free daily materials along with the program, and we welcome your feedback on them. MAPS . Download PDF maps related to today's show: . North America . Washington, D.C. Asia . Mecca, Saudi Arabia; Hong Kong . FEEDBACK . We're looking for your feedback about CNN Student News. Please use this page to leave us comments about today's program, including what you think about our stories and our resources. Also, feel free to tell us how you use them in your classroom. The educators on our staff will monitor this page and may respond to your comments as well. Thank you for using CNN Student News! Click here to submit your Roll Call request.\n",
      "\n",
      "Summary: \n",
      "\n",
      "This page includes the show Transcript, the Daily Curriculum, and Maps .\n",
      "Use the Transcript to help students with reading comprehension and vocabulary .\n",
      "The Daily Curriculum offers the Media Literacy Question of the Day, Key Concepts, Fast Facts and Discussion Questions .\n",
      "At the bottom of the page, please share your feedback about our show and curriculum .\n"
     ]
    }
   ],
   "source": [
    "print('Example: \\n')\n",
    "\n",
    "print(\"Article: \\n\")\n",
    "sample = df_train.sample()\n",
    "article = sample[\"article\"].values[0]\n",
    "print(article)\n",
    "print(\"\\nSummary: \\n\")\n",
    "summary = sample[\"highlights\"].values[0]\n",
    "print(summary)"
   ]
  },
  {
   "cell_type": "code",
   "execution_count": 9,
   "id": "4adf7e22",
   "metadata": {
    "ExecuteTime": {
     "end_time": "2023-02-07T13:04:05.110845Z",
     "start_time": "2023-02-07T13:04:05.098681Z"
    }
   },
   "outputs": [],
   "source": [
    "df_train = df_train.set_index(\"id\")"
   ]
  },
  {
   "cell_type": "code",
   "execution_count": 10,
   "id": "69288b0c",
   "metadata": {
    "ExecuteTime": {
     "end_time": "2023-02-07T13:04:05.130570Z",
     "start_time": "2023-02-07T13:04:05.111845Z"
    }
   },
   "outputs": [
    {
     "data": {
      "text/plain": [
       "(10000, 2)"
      ]
     },
     "execution_count": 10,
     "metadata": {},
     "output_type": "execute_result"
    }
   ],
   "source": [
    "df = df_train.sample(10000)\n",
    "df.shape"
   ]
  },
  {
   "cell_type": "markdown",
   "id": "1f950370",
   "metadata": {},
   "source": [
    "# Preprocessing"
   ]
  },
  {
   "cell_type": "code",
   "execution_count": 11,
   "id": "cd07b4fd",
   "metadata": {
    "ExecuteTime": {
     "end_time": "2023-02-07T13:04:05.135898Z",
     "start_time": "2023-02-07T13:04:05.133840Z"
    }
   },
   "outputs": [],
   "source": [
    "def preprocessing(df):\n",
    "    result = df.copy()\n",
    "    result[\"sent_token\"] = result[\"article\"].apply(lambda article: sent_tokenize(article))"
   ]
  },
  {
   "cell_type": "code",
   "execution_count": 12,
   "id": "ec1a8930",
   "metadata": {
    "ExecuteTime": {
     "end_time": "2023-02-07T13:04:08.719657Z",
     "start_time": "2023-02-07T13:04:05.137230Z"
    }
   },
   "outputs": [],
   "source": [
    "df[\"sent_token\"] = df[\"article\"].apply(lambda article: sent_tokenize(article))"
   ]
  },
  {
   "cell_type": "code",
   "execution_count": null,
   "id": "512bb72b",
   "metadata": {},
   "outputs": [],
   "source": []
  },
  {
   "cell_type": "markdown",
   "id": "cc59b25d",
   "metadata": {},
   "source": [
    "# Models\n",
    "\n",
    "## Random Model\n",
    "This model takes randomly some sentences in the text to create the summary."
   ]
  },
  {
   "cell_type": "code",
   "execution_count": 13,
   "id": "458690e4",
   "metadata": {
    "ExecuteTime": {
     "end_time": "2023-02-07T13:04:08.723199Z",
     "start_time": "2023-02-07T13:04:08.720617Z"
    }
   },
   "outputs": [],
   "source": [
    "class RandomModel:\n",
    "    def summarize(self, articles, threshold=0.2):\n",
    "        result = []\n",
    "        for article in articles:\n",
    "            sentence_tokenized = sent_tokenize(article)\n",
    "            num_sentences = int(threshold*len(sentence_tokenized))\n",
    "            index_sentences_summary = np.sort(np.random.choice(len(sentence_tokenized), \n",
    "                                                               num_sentences, \n",
    "                                                               replace=False))\n",
    "            summary = \"\".join(list(np.array(sentence_tokenized)[index_sentences_summary]))\n",
    "            result.append(summary)"
   ]
  },
  {
   "cell_type": "code",
   "execution_count": 14,
   "id": "60efe7f3",
   "metadata": {
    "ExecuteTime": {
     "end_time": "2023-02-07T13:04:12.539004Z",
     "start_time": "2023-02-07T13:04:08.723946Z"
    }
   },
   "outputs": [],
   "source": [
    "rm = RandomModel()\n",
    "summaries = rm.summarize(df[\"article\"].values)"
   ]
  },
  {
   "cell_type": "markdown",
   "id": "be81def4",
   "metadata": {},
   "source": [
    "## Weight Sentences Model"
   ]
  },
  {
   "cell_type": "code",
   "execution_count": 15,
   "id": "b4069c03",
   "metadata": {
    "ExecuteTime": {
     "end_time": "2023-02-07T13:04:12.542802Z",
     "start_time": "2023-02-07T13:04:12.539893Z"
    }
   },
   "outputs": [
    {
     "name": "stderr",
     "output_type": "stream",
     "text": [
      "[nltk_data] Downloading package stopwords to\n",
      "[nltk_data]     /Users/benjamindrai/nltk_data...\n",
      "[nltk_data]   Package stopwords is already up-to-date!\n",
      "[nltk_data] Downloading package punkt to\n",
      "[nltk_data]     /Users/benjamindrai/nltk_data...\n",
      "[nltk_data]   Package punkt is already up-to-date!\n"
     ]
    }
   ],
   "source": [
    "import nltk\n",
    "nltk.download('stopwords')\n",
    "nltk.download('punkt')\n",
    "\n",
    "from nltk.corpus import stopwords\n",
    "from nltk.stem import PorterStemmer\n",
    "from nltk.tokenize import word_tokenize\n",
    "\n",
    "def create_dictionary_table(text_string) -> dict:\n",
    "   \n",
    "    # Removing stop words\n",
    "    stop_words = set(stopwords.words(\"english\"))\n",
    "    \n",
    "    words = word_tokenize(text_string)\n",
    "    \n",
    "    # Reducing words to their root form\n",
    "    stem = PorterStemmer()\n",
    "    \n",
    "    # Creating dictionary for the word frequency table\n",
    "    frequency_table = dict()\n",
    "    for wd in words:\n",
    "        wd = stem.stem(wd)\n",
    "        if wd in stop_words:\n",
    "            continue\n",
    "        if wd in frequency_table:\n",
    "            frequency_table[wd] += 1\n",
    "        else:\n",
    "            frequency_table[wd] = 1\n",
    "\n",
    "    return frequency_table"
   ]
  },
  {
   "cell_type": "code",
   "execution_count": 16,
   "id": "2b49497b",
   "metadata": {
    "ExecuteTime": {
     "end_time": "2023-02-07T13:04:12.555935Z",
     "start_time": "2023-02-07T13:04:12.543600Z"
    }
   },
   "outputs": [
    {
     "data": {
      "text/plain": [
       "{'(': 3,\n",
       " 'cnn': 5,\n",
       " 'student': 6,\n",
       " 'new': 5,\n",
       " ')': 3,\n",
       " '--': 1,\n",
       " 'octob': 2,\n",
       " '15': 1,\n",
       " ',': 16,\n",
       " '2013': 1,\n",
       " '.': 36,\n",
       " 'debt': 3,\n",
       " 'ceil': 3,\n",
       " 'deadlin': 1,\n",
       " 'day': 2,\n",
       " 'away': 1,\n",
       " 'leader': 1,\n",
       " 'washington': 2,\n",
       " 'say': 2,\n",
       " \"'re\": 2,\n",
       " 'optimist': 1,\n",
       " 'reach': 2,\n",
       " 'deal': 2,\n",
       " 'also': 2,\n",
       " 'discuss': 2,\n",
       " 'infecti': 1,\n",
       " 'bacterium': 2,\n",
       " 'appear': 1,\n",
       " 'nfl': 1,\n",
       " 'locker': 1,\n",
       " 'room': 1,\n",
       " 'explain': 2,\n",
       " 'muslim': 1,\n",
       " 'ritual': 1,\n",
       " 'hajj': 2,\n",
       " 'plu': 1,\n",
       " 'make': 1,\n",
       " 'career': 2,\n",
       " 'connect': 1,\n",
       " 'opera': 2,\n",
       " 'singer': 2,\n",
       " 'high': 1,\n",
       " 'school': 1,\n",
       " 'elect': 1,\n",
       " 'king': 2,\n",
       " 'queen': 2,\n",
       " 'embodi': 1,\n",
       " 'spirit': 1,\n",
       " 'homecom': 3,\n",
       " 'thi': 5,\n",
       " 'page': 3,\n",
       " 'find': 1,\n",
       " 'today': 7,\n",
       " \"'s\": 8,\n",
       " 'show': 5,\n",
       " 'transcript': 4,\n",
       " 'daili': 4,\n",
       " 'curriculum': 4,\n",
       " 'map': 3,\n",
       " 'pertain': 1,\n",
       " 'place': 1,\n",
       " 'leav': 2,\n",
       " 'feedback': 4,\n",
       " 'click': 3,\n",
       " 'access': 1,\n",
       " 'program': 5,\n",
       " 'pleas': 2,\n",
       " 'note': 1,\n",
       " 'may': 2,\n",
       " 'delay': 1,\n",
       " 'time': 1,\n",
       " 'video': 1,\n",
       " 'avail': 1,\n",
       " 'publish': 1,\n",
       " 'printabl': 1,\n",
       " 'version': 1,\n",
       " 'pdf': 2,\n",
       " 'media': 1,\n",
       " 'literaci': 1,\n",
       " 'question': 2,\n",
       " ':': 6,\n",
       " 'benefit': 1,\n",
       " 'limit': 1,\n",
       " 'news': 1,\n",
       " 'report': 2,\n",
       " 'medic': 1,\n",
       " 'issu': 1,\n",
       " '?': 16,\n",
       " 'could': 1,\n",
       " 'go': 1,\n",
       " 'get': 1,\n",
       " 'complet': 1,\n",
       " 'inform': 1,\n",
       " 'key': 1,\n",
       " 'concept': 1,\n",
       " 'identifi': 1,\n",
       " 'subject': 2,\n",
       " 'heard': 1,\n",
       " '1': 3,\n",
       " 'methicillin-resist': 1,\n",
       " 'staphylococcu': 1,\n",
       " 'aureu': 1,\n",
       " 'mrsa': 2,\n",
       " '2': 3,\n",
       " '3.': 1,\n",
       " 'suppli': 1,\n",
       " 'demand': 2,\n",
       " 'fast': 1,\n",
       " 'fact': 1,\n",
       " 'well': 2,\n",
       " 'listen': 1,\n",
       " 'statu': 1,\n",
       " 'congression': 1,\n",
       " 'debat': 2,\n",
       " 'major': 1,\n",
       " 'player': 1,\n",
       " 'whi': 3,\n",
       " 'concern': 1,\n",
       " 'way': 1,\n",
       " 'prevent': 1,\n",
       " 'spread': 1,\n",
       " '3': 2,\n",
       " 'advic': 1,\n",
       " 'doe': 1,\n",
       " 'christian': 1,\n",
       " 'figueroa': 1,\n",
       " 'art': 1,\n",
       " 'think': 4,\n",
       " 'hous': 1,\n",
       " 'congress': 1,\n",
       " 'presid': 1,\n",
       " 'obama': 1,\n",
       " 'agre': 1,\n",
       " '17': 1,\n",
       " 'challeng': 1,\n",
       " 'agreement': 1,\n",
       " 'fish': 4,\n",
       " 'farm': 2,\n",
       " 'solut': 1,\n",
       " 'meet': 1,\n",
       " 'might': 1,\n",
       " 'compar': 1,\n",
       " 'contrast': 1,\n",
       " 'ocean': 1,\n",
       " 'opinion': 1,\n",
       " 'describ': 1,\n",
       " 'view': 1,\n",
       " 'characterist': 1,\n",
       " 'possess': 1,\n",
       " 'thought': 1,\n",
       " 'stori': 2,\n",
       " 'creat': 1,\n",
       " 'team': 1,\n",
       " 'journalist': 1,\n",
       " 'educ': 2,\n",
       " 'consid': 1,\n",
       " 'common': 1,\n",
       " 'core': 1,\n",
       " 'state': 2,\n",
       " 'standard': 3,\n",
       " 'nation': 1,\n",
       " 'differ': 1,\n",
       " 'area': 1,\n",
       " 'produc': 1,\n",
       " 'hope': 1,\n",
       " 'use': 4,\n",
       " 'free': 2,\n",
       " 'materi': 1,\n",
       " 'along': 1,\n",
       " 'welcom': 1,\n",
       " 'download': 1,\n",
       " 'relat': 1,\n",
       " 'north': 1,\n",
       " 'america': 1,\n",
       " 'd.c.': 1,\n",
       " 'asia': 1,\n",
       " 'mecca': 1,\n",
       " 'saudi': 1,\n",
       " 'arabia': 1,\n",
       " ';': 1,\n",
       " 'hong': 1,\n",
       " 'kong': 1,\n",
       " 'look': 1,\n",
       " 'us': 2,\n",
       " 'comment': 2,\n",
       " 'includ': 1,\n",
       " 'resourc': 1,\n",
       " 'feel': 1,\n",
       " 'tell': 1,\n",
       " 'classroom': 1,\n",
       " 'staff': 1,\n",
       " 'monitor': 1,\n",
       " 'respond': 1,\n",
       " 'thank': 1,\n",
       " '!': 1,\n",
       " 'submit': 1,\n",
       " 'roll': 1,\n",
       " 'call': 1,\n",
       " 'request': 1}"
      ]
     },
     "execution_count": 16,
     "metadata": {},
     "output_type": "execute_result"
    }
   ],
   "source": [
    "create_dictionary_table(article)"
   ]
  },
  {
   "cell_type": "code",
   "execution_count": 17,
   "id": "6fd95455",
   "metadata": {
    "ExecuteTime": {
     "end_time": "2023-02-07T13:04:12.560426Z",
     "start_time": "2023-02-07T13:04:12.557211Z"
    }
   },
   "outputs": [
    {
     "data": {
      "text/plain": [
       "['(CNN Student News) -- October 15, 2013 .',\n",
       " \"With the debt ceiling deadline days away, leaders in Washington say they're optimistic about reaching a deal.\",\n",
       " 'We also discuss an infectious bacterium that appeared in an NFL locker room, and we explain the Muslim ritual of Hajj.',\n",
       " 'Plus, we make a Career Connection with an opera singer, and a high school elects a king and queen that students say embody the spirit of homecoming.',\n",
       " \"On this page you will find today's show Transcript, the Daily Curriculum, Maps pertaining to today's show, and a place for you to leave feedback.\",\n",
       " 'TRANSCRIPT .',\n",
       " \"Click here to access the transcript of today's CNN Student News program.\",\n",
       " 'Please note that there may be a delay between the time when the video is available and when the transcript is published.',\n",
       " 'DAILY CURRICULUM .',\n",
       " 'Click here for a printable version of the Daily Curriculum (PDF).',\n",
       " 'Media Literacy Question of the Day: .',\n",
       " 'What are the benefits and limitations of a news report about a medical issue?',\n",
       " 'Where could you go to get more complete information?',\n",
       " \"Key Concepts: Identify or explain these subjects you heard about in today's show: .\",\n",
       " '1.',\n",
       " 'Methicillin-resistant Staphylococcus aureus (MRSA) 2.',\n",
       " 'Hajj .',\n",
       " '3. supply and demand .',\n",
       " \"Fast Facts: How well were you listening to today's program?\",\n",
       " '1.',\n",
       " \"What's the status of the congressional debate over the debt ceiling?\",\n",
       " 'Who are some of the major players in this debate?',\n",
       " '2.',\n",
       " 'Why are there concerns over MRSA?',\n",
       " 'What are some ways to prevent the spread of this bacterium?',\n",
       " '3.',\n",
       " 'What advice does opera singer Christian Figueroa have about a career in the arts?',\n",
       " 'Discussion Questions: .',\n",
       " '1.',\n",
       " 'Do you think that both houses of Congress and President Obama will agree on a debt ceiling deal by October 17?',\n",
       " 'Why or why not?',\n",
       " 'What do you think are some of the challenges of reaching an agreement?',\n",
       " '2.',\n",
       " 'What do you think of fish farms as a solution to meeting the demand for fish?',\n",
       " 'How might they compare and contrast with ocean fishing?',\n",
       " 'What is your opinion of the fish farm described in the report?',\n",
       " '3.',\n",
       " 'In your view, what characteristics should a homecoming king or queen possess?',\n",
       " 'What were your thoughts on the homecoming story in the program?',\n",
       " 'CNN Student News is created by a team of journalists and educators who consider the Common Core State Standards, national standards in different subject areas, and state standards when producing the show and curriculum.',\n",
       " 'We hope you use our free daily materials along with the program, and we welcome your feedback on them.',\n",
       " 'MAPS .',\n",
       " \"Download PDF maps related to today's show: .\",\n",
       " 'North America .',\n",
       " 'Washington, D.C. Asia .',\n",
       " 'Mecca, Saudi Arabia; Hong Kong .',\n",
       " 'FEEDBACK .',\n",
       " \"We're looking for your feedback about CNN Student News.\",\n",
       " \"Please use this page to leave us comments about today's program, including what you think about our stories and our resources.\",\n",
       " 'Also, feel free to tell us how you use them in your classroom.',\n",
       " 'The educators on our staff will monitor this page and may respond to your comments as well.',\n",
       " 'Thank you for using CNN Student News!',\n",
       " 'Click here to submit your Roll Call request.']"
      ]
     },
     "execution_count": 17,
     "metadata": {},
     "output_type": "execute_result"
    }
   ],
   "source": [
    "from nltk.tokenize import word_tokenize, sent_tokenize\n",
    "\n",
    "sentences = sent_tokenize(article)\n",
    "sentences"
   ]
  },
  {
   "cell_type": "code",
   "execution_count": 18,
   "id": "7a08c997",
   "metadata": {
    "ExecuteTime": {
     "end_time": "2023-02-07T13:04:12.564190Z",
     "start_time": "2023-02-07T13:04:12.561594Z"
    }
   },
   "outputs": [],
   "source": [
    "def _calculate_sentence_scores(sentences, frequency_table) -> dict:   \n",
    "\n",
    "    # Algorithm for scoring a sentence by its words\n",
    "    sentence_weight = dict()\n",
    "\n",
    "    for sentence in sentences:\n",
    "        sentence_wordcount = (len(word_tokenize(sentence)))\n",
    "        sentence_wordcount_without_stop_words = 0\n",
    "        for word_weight in frequency_table:\n",
    "            if word_weight in sentence.lower():\n",
    "                sentence_wordcount_without_stop_words += 1\n",
    "                if sentence[:7] in sentence_weight:\n",
    "                    sentence_weight[sentence[:7]] += frequency_table[word_weight]\n",
    "                else:\n",
    "                    sentence_weight[sentence[:7]] = frequency_table[word_weight]\n",
    "\n",
    "        sentence_weight[sentence[:7]] = sentence_weight[sentence[:7]] / sentence_wordcount_without_stop_words\n",
    "      \n",
    "    return sentence_weight"
   ]
  },
  {
   "cell_type": "code",
   "execution_count": 19,
   "id": "61b8ddb9",
   "metadata": {
    "ExecuteTime": {
     "end_time": "2023-02-07T13:04:12.566930Z",
     "start_time": "2023-02-07T13:04:12.565100Z"
    }
   },
   "outputs": [],
   "source": [
    "def _calculate_average_score(sentence_weight) -> int:\n",
    "   \n",
    "    # Calculating the average score for the sentences\n",
    "    sum_values = 0\n",
    "    for entry in sentence_weight:\n",
    "        sum_values += sentence_weight[entry]\n",
    "\n",
    "    # Getting sentence average value from source text\n",
    "    average_score = (sum_values / len(sentence_weight))\n",
    "\n",
    "    return average_score"
   ]
  },
  {
   "cell_type": "code",
   "execution_count": 20,
   "id": "dacd5a65",
   "metadata": {
    "ExecuteTime": {
     "end_time": "2023-02-07T13:04:12.569778Z",
     "start_time": "2023-02-07T13:04:12.567765Z"
    }
   },
   "outputs": [],
   "source": [
    "def _get_article_summary(sentences, sentence_weight, threshold):\n",
    "    sentence_counter = 0\n",
    "    article_summary = ''\n",
    "\n",
    "    for sentence in sentences:\n",
    "        if sentence[:7] in sentence_weight and sentence_weight[sentence[:7]] >= (threshold):\n",
    "            article_summary += \" \" + sentence\n",
    "            sentence_counter += 1\n",
    "\n",
    "    return article_summary"
   ]
  },
  {
   "cell_type": "code",
   "execution_count": 21,
   "id": "9e7cd1da",
   "metadata": {
    "ExecuteTime": {
     "end_time": "2023-02-07T13:04:12.573029Z",
     "start_time": "2023-02-07T13:04:12.570933Z"
    }
   },
   "outputs": [],
   "source": [
    "def _run_article_summary(article):\n",
    "    \n",
    "    #creating a dictionary for the word frequency table\n",
    "    frequency_table = _create_dictionary_table(article)\n",
    "\n",
    "    #tokenizing the sentences\n",
    "    sentences = sent_tokenize(article)\n",
    "\n",
    "    #algorithm for scoring a sentence by its words\n",
    "    sentence_scores = _calculate_sentence_scores(sentences, frequency_table)\n",
    "\n",
    "    #getting the threshold\n",
    "    threshold = _calculate_average_score(sentence_scores)\n",
    "\n",
    "    #producing the summary\n",
    "    article_summary = _get_article_summary(sentences, sentence_scores,  threshold)\n",
    "\n",
    "    return article_summary\n"
   ]
  },
  {
   "cell_type": "code",
   "execution_count": 22,
   "id": "361395a2",
   "metadata": {
    "ExecuteTime": {
     "end_time": "2023-02-07T13:04:12.704377Z",
     "start_time": "2023-02-07T13:04:12.573901Z"
    }
   },
   "outputs": [
    {
     "ename": "NameError",
     "evalue": "name '_create_dictionary_table' is not defined",
     "output_type": "error",
     "traceback": [
      "\u001b[0;31m---------------------------------------------------------------------------\u001b[0m",
      "\u001b[0;31mNameError\u001b[0m                                 Traceback (most recent call last)",
      "Cell \u001b[0;32mIn [22], line 1\u001b[0m\n\u001b[0;32m----> 1\u001b[0m \u001b[43m_run_article_summary\u001b[49m\u001b[43m(\u001b[49m\u001b[43marticle\u001b[49m\u001b[43m)\u001b[49m\n",
      "Cell \u001b[0;32mIn [21], line 4\u001b[0m, in \u001b[0;36m_run_article_summary\u001b[0;34m(article)\u001b[0m\n\u001b[1;32m      1\u001b[0m \u001b[38;5;28;01mdef\u001b[39;00m \u001b[38;5;21m_run_article_summary\u001b[39m(article):\n\u001b[1;32m      2\u001b[0m     \n\u001b[1;32m      3\u001b[0m     \u001b[38;5;66;03m#creating a dictionary for the word frequency table\u001b[39;00m\n\u001b[0;32m----> 4\u001b[0m     frequency_table \u001b[38;5;241m=\u001b[39m \u001b[43m_create_dictionary_table\u001b[49m(article)\n\u001b[1;32m      6\u001b[0m     \u001b[38;5;66;03m#tokenizing the sentences\u001b[39;00m\n\u001b[1;32m      7\u001b[0m     sentences \u001b[38;5;241m=\u001b[39m sent_tokenize(article)\n",
      "\u001b[0;31mNameError\u001b[0m: name '_create_dictionary_table' is not defined"
     ]
    }
   ],
   "source": [
    "_run_article_summary(article)"
   ]
  },
  {
   "cell_type": "code",
   "execution_count": null,
   "id": "1b40cab1",
   "metadata": {},
   "outputs": [],
   "source": []
  },
  {
   "cell_type": "markdown",
   "id": "8da9c5b6",
   "metadata": {},
   "source": [
    "# Model Evaluation"
   ]
  },
  {
   "cell_type": "code",
   "execution_count": null,
   "id": "67012ef2",
   "metadata": {},
   "outputs": [],
   "source": []
  }
 ],
 "metadata": {
  "kernelspec": {
   "display_name": "Python 3 (ipykernel)",
   "language": "python",
   "name": "python3"
  },
  "language_info": {
   "codemirror_mode": {
    "name": "ipython",
    "version": 3
   },
   "file_extension": ".py",
   "mimetype": "text/x-python",
   "name": "python",
   "nbconvert_exporter": "python",
   "pygments_lexer": "ipython3",
   "version": "3.10.6"
  }
 },
 "nbformat": 4,
 "nbformat_minor": 5
}
